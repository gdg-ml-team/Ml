{
 "cells": [
  {
   "cell_type": "markdown",
   "metadata": {
    "colab_type": "text",
    "id": "view-in-github"
   },
   "source": [
    "<a href=\"https://colab.research.google.com/github/AhmedKaramDev/Python-machineLearning-course/blob/master/Refresh_python.ipynb\" target=\"_parent\"><img src=\"https://colab.research.google.com/assets/colab-badge.svg\" alt=\"Open In Colab\"/></a>"
   ]
  },
  {
   "cell_type": "markdown",
   "metadata": {
    "colab_type": "text",
    "id": "DesGhoHlMV2S"
   },
   "source": [
    "# python for Data Sci"
   ]
  },
  {
   "cell_type": "code",
   "execution_count": 0,
   "metadata": {
    "colab": {},
    "colab_type": "code",
    "id": "-perWb5cMV2U",
    "outputId": "6d7eab2a-a5f5-48fb-9446-997e690deb86"
   },
   "outputs": [
    {
     "name": "stdout",
     "output_type": "stream",
     "text": [
      "10\n",
      "0\n",
      "25\n",
      "1.0\n"
     ]
    }
   ],
   "source": [
    "# python and all programming languages can do basic math (add, subtratct , multiply, division)\n",
    "print(5+5)\n",
    "print(5-5)\n",
    "print(5*5)\n",
    "print(5/5)"
   ]
  },
  {
   "cell_type": "markdown",
   "metadata": {
    "colab_type": "text",
    "id": "sFlf2FmVMV2b"
   },
   "source": [
    "in python there are additional operators power`**` and modulo `%`"
   ]
  },
  {
   "cell_type": "code",
   "execution_count": 0,
   "metadata": {
    "colab": {},
    "colab_type": "code",
    "id": "w-6xxLOhMV2c",
    "outputId": "6c0bdffa-a79d-4a2b-e148-e5740af068f0"
   },
   "outputs": [
    {
     "name": "stdout",
     "output_type": "stream",
     "text": [
      "125\n",
      "1\n"
     ]
    }
   ],
   "source": [
    "print(5**3) # means 5*5*5\n",
    "print(11%2) # means the reminder of the divison"
   ]
  },
  {
   "cell_type": "markdown",
   "metadata": {
    "colab_type": "text",
    "id": "Hm7NsF1gMV2h"
   },
   "source": [
    "## Example:\n",
    "Suppose you have $100, which you can invest with a 10%\n",
    "return each year. After one year, it's 100×1.1=110 dollars,\n",
    "and after two years it's 100×1.1×1.1=121."
   ]
  },
  {
   "cell_type": "code",
   "execution_count": 0,
   "metadata": {
    "colab": {},
    "colab_type": "code",
    "id": "napb1BVoMV2i"
   },
   "outputs": [],
   "source": [
    "#TODO: Add code to calculate how much money you end up with after 7 years."
   ]
  },
  {
   "cell_type": "markdown",
   "metadata": {
    "colab_type": "text",
    "id": "swz1d_-tMV2k"
   },
   "source": [
    "## variables \n",
    "* case sensitive\n",
    "* no start with numbers\n",
    "* no symbols just _  \n",
    "\n",
    "## Types \n",
    "there are commoan types in python (int, float, string, bool ,list, set, dictioninary)\n",
    "to know the type write `type(varible name)` "
   ]
  },
  {
   "cell_type": "code",
   "execution_count": 0,
   "metadata": {
    "colab": {},
    "colab_type": "code",
    "id": "u9tgiJt1MV2l"
   },
   "outputs": [],
   "source": [
    "# Create a variable savings with the value 100.\n",
    "# Check out this variable by typing print(savings) in the script.\n",
    "# Check out this variable type by typing print(type(savings)) in the script."
   ]
  },
  {
   "cell_type": "markdown",
   "metadata": {
    "colab_type": "text",
    "id": "rpjS6jOTMV2o"
   },
   "source": [
    "###  we saw int and float values now lets another data types \n",
    "**TODO:** Create a new string, desc, with the value \"pyhton Course\".  \n",
    "\n",
    "**TODO:** Create a new boolean, profitable, with the value True"
   ]
  },
  {
   "cell_type": "markdown",
   "metadata": {
    "colab_type": "text",
    "id": "G9fpbVtkMV2p"
   },
   "source": [
    "String vlaues must be between tow double or single quotes Ex: \"Hello\" or 'Hi'. You can merge between strings with + operator.\n",
    "\n",
    "boolean values can be `True` or `False` first capital letter is important also can be 0 or 1"
   ]
  },
  {
   "cell_type": "code",
   "execution_count": 0,
   "metadata": {
    "colab": {},
    "colab_type": "code",
    "id": "CBToLHArMV2q",
    "outputId": "85912b5a-cf04-4107-d1e0-a4cc7285964f"
   },
   "outputs": [
    {
     "ename": "TypeError",
     "evalue": "must be str, not int",
     "output_type": "error",
     "traceback": [
      "\u001b[1;31m---------------------------------------------------------------------------\u001b[0m",
      "\u001b[1;31mTypeError\u001b[0m                                 Traceback (most recent call last)",
      "\u001b[1;32m<ipython-input-5-7faaa6f4ee40>\u001b[0m in \u001b[0;36m<module>\u001b[1;34m\u001b[0m\n\u001b[0;32m      3\u001b[0m \u001b[1;33m\u001b[0m\u001b[0m\n\u001b[0;32m      4\u001b[0m \u001b[1;31m# Fix the printout\u001b[0m\u001b[1;33m\u001b[0m\u001b[1;33m\u001b[0m\u001b[0m\n\u001b[1;32m----> 5\u001b[1;33m \u001b[0mprint\u001b[0m\u001b[1;33m(\u001b[0m\u001b[1;34m\"I started with $\"\u001b[0m \u001b[1;33m+\u001b[0m \u001b[0msavings\u001b[0m \u001b[1;33m+\u001b[0m \u001b[1;34m\" and now have $\"\u001b[0m \u001b[1;33m+\u001b[0m \u001b[0mresult\u001b[0m \u001b[1;33m+\u001b[0m \u001b[1;34m\". Awesome!\"\u001b[0m\u001b[1;33m)\u001b[0m\u001b[1;33m\u001b[0m\u001b[0m\n\u001b[0m",
      "\u001b[1;31mTypeError\u001b[0m: must be str, not int"
     ]
    }
   ],
   "source": [
    "savings = 100\n",
    "result = 100 * 1.10 ** 7\n",
    "\n",
    "# Fix the printout\n",
    "print(\"I started with $\" + savings + \" and now have $\" + result + \". Awesome!\")"
   ]
  },
  {
   "cell_type": "markdown",
   "metadata": {
    "colab_type": "text",
    "id": "NnI0yf7yMV2u"
   },
   "source": [
    "## we can convert between some python types\n",
    "we can convert string value contains numbers to int or float but we can't convert letters to float or int\n",
    "we can convert between int and float but in convert int to float the numbers after the fraction point removed"
   ]
  },
  {
   "cell_type": "code",
   "execution_count": 0,
   "metadata": {
    "colab": {},
    "colab_type": "code",
    "id": "K7DJZc3wMV2v"
   },
   "outputs": [],
   "source": [
    "# Definition of pi_string\n",
    "pi_string = \"3.1415926\"\n",
    "\n",
    "# TODO: Convert pi_string into float: pi_float and then print the type of it\n",
    "pi_float ="
   ]
  },
  {
   "cell_type": "markdown",
   "metadata": {
    "colab_type": "text",
    "id": "fQepKzEqMV2y"
   },
   "source": [
    "## all these types store single values and our probelm in data scinece have many datapoint and it's hard to store each value in variable so we're using list to hold many values in one variable\n",
    "\n",
    "**List features**\n",
    "* name a collection of values \n",
    "* contain any type\n",
    "* Contain different type"
   ]
  },
  {
   "cell_type": "code",
   "execution_count": 0,
   "metadata": {
    "colab": {},
    "colab_type": "code",
    "id": "pD0FuGlSMV2z"
   },
   "outputs": [],
   "source": [
    "fam = [\"lyla\",1.65,\"Naser\",1.70,\"mom\",1.67,\"dad\",1.89]\n",
    "fam"
   ]
  },
  {
   "cell_type": "code",
   "execution_count": null,
   "metadata": {},
   "outputs": [],
   "source": [
    "# You can access the list by its index the index start from 0 to (length of list-1)\n",
    "# so fam[0] will print \"lyla\" and fam[7] will print 1.89\n",
    "print(fam[0])\n",
    "print(fam[7])\n",
    "#TODO: print the second element from the fam list"
   ]
  },
  {
   "cell_type": "code",
   "execution_count": null,
   "metadata": {},
   "outputs": [],
   "source": [
    "# also you can go backword by using minus sign for eaxmple fam[-1] will print the last element\n",
    "\n",
    "#TODO: print \"mom\" from the list using backward index\n",
    "print()"
   ]
  },
  {
   "cell_type": "markdown",
   "metadata": {},
   "source": [
    "### list slicing :  list[ start : end ]\n",
    "\n",
    "**Start inclusive ---------     end exclusive**\n",
    "\n",
    "for example if we want to get the name \"Naser\" and his tall from our `fam` varibale we will insert the index of \"Naser\" which is 2 and the index of his tall+1 which is 4 so it will be `fam[2:4]`  "
   ]
  },
  {
   "cell_type": "code",
   "execution_count": null,
   "metadata": {},
   "outputs": [],
   "source": [
    "#TODO: print \"dad\" and his tall from fam list using list slicing"
   ]
  },
  {
   "cell_type": "code",
   "execution_count": null,
   "metadata": {},
   "outputs": [],
   "source": [
    "areas = [\"hallway\", 11.25, \"kitchen\", 18.0, \"living room\", 20.0, \"bedroom\", 10.75, \"bathroom\", 9.50]\n",
    "\n",
    "#TODO: Use slicing to create a list, downstairs, that contains the first 6 elements of areas.\n",
    "# TODO: Do a similar thing to create a new variable, upstairs, that contains the last 4 elements of areas.\n",
    "# TODO: Print both downstairs and upstairs using print()."
   ]
  },
  {
   "cell_type": "markdown",
   "metadata": {},
   "source": [
    "If you don't specify the `start` index, Python figures out that you want to start your slice at the beginning of your list. If you don't specify the `end` index, the slice will go all the way to the last element of your list\n",
    "\n",
    "**Try this in the cell below**\n",
    "\n",
    "x = [\"a\", \"b\", \"c\", \"d\"]\n",
    "\n",
    "x[:2]\n",
    "\n",
    "x[2:]\n",
    "\n",
    "x[:]"
   ]
  },
  {
   "cell_type": "code",
   "execution_count": null,
   "metadata": {},
   "outputs": [],
   "source": []
  }
 ],
 "metadata": {
  "colab": {
   "include_colab_link": true,
   "name": "Refresh python.ipynb",
   "provenance": [],
   "version": "0.3.2"
  },
  "kernelspec": {
   "display_name": "Python 3",
   "language": "python",
   "name": "python3"
  },
  "language_info": {
   "codemirror_mode": {
    "name": "ipython",
    "version": 3
   },
   "file_extension": ".py",
   "mimetype": "text/x-python",
   "name": "python",
   "nbconvert_exporter": "python",
   "pygments_lexer": "ipython3",
   "version": "3.6.5"
  }
 },
 "nbformat": 4,
 "nbformat_minor": 1
}
