{
  "nbformat": 4,
  "nbformat_minor": 0,
  "metadata": {
    "kernelspec": {
      "display_name": "Python 3",
      "language": "python",
      "name": "python3"
    },
    "language_info": {
      "codemirror_mode": {
        "name": "ipython",
        "version": 3
      },
      "file_extension": ".py",
      "mimetype": "text/x-python",
      "name": "python",
      "nbconvert_exporter": "python",
      "pygments_lexer": "ipython3",
      "version": "3.6.5"
    },
    "colab": {
      "name": "Refresh python.ipynb",
      "version": "0.3.2",
      "provenance": [],
      "include_colab_link": true
    }
  },
  "cells": [
    {
      "cell_type": "markdown",
      "metadata": {
        "id": "view-in-github",
        "colab_type": "text"
      },
      "source": [
        "<a href=\"https://colab.research.google.com/github/AhmedKaramDev/Python-machineLearning-course/blob/master/Refresh_python.ipynb\" target=\"_parent\"><img src=\"https://colab.research.google.com/assets/colab-badge.svg\" alt=\"Open In Colab\"/></a>"
      ]
    },
    {
      "cell_type": "markdown",
      "metadata": {
        "id": "DesGhoHlMV2S",
        "colab_type": "text"
      },
      "source": [
        "# python for Data Sci"
      ]
    },
    {
      "cell_type": "code",
      "metadata": {
        "id": "-perWb5cMV2U",
        "colab_type": "code",
        "colab": {},
        "outputId": "6d7eab2a-a5f5-48fb-9446-997e690deb86"
      },
      "source": [
        "# python and all programming languages can do basic math (add, subtratct , multiply, division)\n",
        "print(5+5)\n",
        "print(5-5)\n",
        "print(5*5)\n",
        "print(5/5)"
      ],
      "execution_count": 0,
      "outputs": [
        {
          "output_type": "stream",
          "text": [
            "10\n",
            "0\n",
            "25\n",
            "1.0\n"
          ],
          "name": "stdout"
        }
      ]
    },
    {
      "cell_type": "markdown",
      "metadata": {
        "id": "sFlf2FmVMV2b",
        "colab_type": "text"
      },
      "source": [
        "in python there are additional operators power`**` and modulo `%`"
      ]
    },
    {
      "cell_type": "code",
      "metadata": {
        "id": "w-6xxLOhMV2c",
        "colab_type": "code",
        "colab": {},
        "outputId": "6c0bdffa-a79d-4a2b-e148-e5740af068f0"
      },
      "source": [
        "print(5**3) # means 5*5*5\n",
        "print(11%2) # means the reminder of the divison"
      ],
      "execution_count": 0,
      "outputs": [
        {
          "output_type": "stream",
          "text": [
            "125\n",
            "1\n"
          ],
          "name": "stdout"
        }
      ]
    },
    {
      "cell_type": "markdown",
      "metadata": {
        "id": "Hm7NsF1gMV2h",
        "colab_type": "text"
      },
      "source": [
        "## Example:\n",
        "Suppose you have $100, which you can invest with a 10%\n",
        "return each year. After one year, it's 100×1.1=110 dollars,\n",
        "and after two years it's 100×1.1×1.1=121."
      ]
    },
    {
      "cell_type": "code",
      "metadata": {
        "id": "napb1BVoMV2i",
        "colab_type": "code",
        "colab": {}
      },
      "source": [
        "#TODO: Add code to calculate how much money you end up with after 7 years."
      ],
      "execution_count": 0,
      "outputs": []
    },
    {
      "cell_type": "markdown",
      "metadata": {
        "id": "swz1d_-tMV2k",
        "colab_type": "text"
      },
      "source": [
        "## variables \n",
        "* case sensitive\n",
        "* no start with numbers\n",
        "* no symbols just _  \n",
        "\n",
        "## Types \n",
        "there are commoan types in python (int, float, string, bool ,list, set, dictioninary)\n",
        "to know the type write `type(varible name)` "
      ]
    },
    {
      "cell_type": "code",
      "metadata": {
        "id": "u9tgiJt1MV2l",
        "colab_type": "code",
        "colab": {}
      },
      "source": [
        "# Create a variable savings with the value 100.\n",
        "# Check out this variable by typing print(savings) in the script.\n",
        "# Check out this variable type by typing print(type(savings)) in the script."
      ],
      "execution_count": 0,
      "outputs": []
    },
    {
      "cell_type": "markdown",
      "metadata": {
        "id": "rpjS6jOTMV2o",
        "colab_type": "text"
      },
      "source": [
        "###  we saw int and float values now lets another data types \n",
        "**TODO:** Create a new string, desc, with the value \"pyhton Course\".  \n",
        "\n",
        "**TODO:** Create a new boolean, profitable, with the value True"
      ]
    },
    {
      "cell_type": "markdown",
      "metadata": {
        "id": "G9fpbVtkMV2p",
        "colab_type": "text"
      },
      "source": [
        "String vlaues must be between tow double or single quotes Ex: \"Hello\" or 'Hi'. You can merge between strings with + operator.\n",
        "\n",
        "boolean values can be `True` or `False` first capital letter is important also can be 0 or 1"
      ]
    },
    {
      "cell_type": "code",
      "metadata": {
        "id": "CBToLHArMV2q",
        "colab_type": "code",
        "colab": {},
        "outputId": "85912b5a-cf04-4107-d1e0-a4cc7285964f"
      },
      "source": [
        "savings = 100\n",
        "result = 100 * 1.10 ** 7\n",
        "\n",
        "# Fix the printout\n",
        "print(\"I started with $\" + savings + \" and now have $\" + result + \". Awesome!\")"
      ],
      "execution_count": 0,
      "outputs": [
        {
          "output_type": "error",
          "ename": "TypeError",
          "evalue": "must be str, not int",
          "traceback": [
            "\u001b[1;31m---------------------------------------------------------------------------\u001b[0m",
            "\u001b[1;31mTypeError\u001b[0m                                 Traceback (most recent call last)",
            "\u001b[1;32m<ipython-input-5-7faaa6f4ee40>\u001b[0m in \u001b[0;36m<module>\u001b[1;34m\u001b[0m\n\u001b[0;32m      3\u001b[0m \u001b[1;33m\u001b[0m\u001b[0m\n\u001b[0;32m      4\u001b[0m \u001b[1;31m# Fix the printout\u001b[0m\u001b[1;33m\u001b[0m\u001b[1;33m\u001b[0m\u001b[0m\n\u001b[1;32m----> 5\u001b[1;33m \u001b[0mprint\u001b[0m\u001b[1;33m(\u001b[0m\u001b[1;34m\"I started with $\"\u001b[0m \u001b[1;33m+\u001b[0m \u001b[0msavings\u001b[0m \u001b[1;33m+\u001b[0m \u001b[1;34m\" and now have $\"\u001b[0m \u001b[1;33m+\u001b[0m \u001b[0mresult\u001b[0m \u001b[1;33m+\u001b[0m \u001b[1;34m\". Awesome!\"\u001b[0m\u001b[1;33m)\u001b[0m\u001b[1;33m\u001b[0m\u001b[0m\n\u001b[0m",
            "\u001b[1;31mTypeError\u001b[0m: must be str, not int"
          ]
        }
      ]
    },
    {
      "cell_type": "markdown",
      "metadata": {
        "id": "NnI0yf7yMV2u",
        "colab_type": "text"
      },
      "source": [
        "## we can convert between some python types\n",
        "we can convert string value contains numbers to int or float but we can't convert letters to float or int\n",
        "we can convert between int and float but in convert int to float the numbers after the fraction point removed"
      ]
    },
    {
      "cell_type": "code",
      "metadata": {
        "id": "K7DJZc3wMV2v",
        "colab_type": "code",
        "colab": {}
      },
      "source": [
        "# Definition of pi_string\n",
        "pi_string = \"3.1415926\"\n",
        "\n",
        "# TODO: Convert pi_string into float: pi_float and then print the type of it\n",
        "pi_float ="
      ],
      "execution_count": 0,
      "outputs": []
    },
    {
      "cell_type": "markdown",
      "metadata": {
        "id": "fQepKzEqMV2y",
        "colab_type": "text"
      },
      "source": [
        "## all these types store single values and our probelm in data scinece have many datapoint and it's hard to store each value in variable so we're using list to hold many values in one variable\n",
        "\n",
        "**List features**\n",
        "* name a collection of values \n",
        "* contain any type\n",
        "* Contain different type"
      ]
    },
    {
      "cell_type": "code",
      "metadata": {
        "id": "pD0FuGlSMV2z",
        "colab_type": "code",
        "colab": {}
      },
      "source": [
        ""
      ],
      "execution_count": 0,
      "outputs": []
    }
  ]
}